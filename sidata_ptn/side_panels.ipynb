{
 "cells": [
  {
   "cell_type": "code",
   "execution_count": 26,
   "id": "4eb88923-8888-427c-82cf-802ecf023b4f",
   "metadata": {},
   "outputs": [],
   "source": [
    "import requests     # library untuk URL\n",
    "from bs4 import BeautifulSoup   # library untuk scrapping web\n",
    "import re\n",
    "import pandas as pd\n",
    "from lxml import html\n",
    "import time\n",
    "import os\n",
    "from tqdm import tqdm"
   ]
  },
  {
   "cell_type": "code",
   "execution_count": 3,
   "id": "174b3101-cdb0-4755-8cc2-c2f8349f4642",
   "metadata": {},
   "outputs": [
    {
     "data": {
      "text/html": [
       "<div>\n",
       "<style scoped>\n",
       "    .dataframe tbody tr th:only-of-type {\n",
       "        vertical-align: middle;\n",
       "    }\n",
       "\n",
       "    .dataframe tbody tr th {\n",
       "        vertical-align: top;\n",
       "    }\n",
       "\n",
       "    .dataframe thead th {\n",
       "        text-align: right;\n",
       "    }\n",
       "</style>\n",
       "<table border=\"1\" class=\"dataframe\">\n",
       "  <thead>\n",
       "    <tr style=\"text-align: right;\">\n",
       "      <th></th>\n",
       "      <th>Unnamed: 0</th>\n",
       "      <th>Unnamed: 0.1</th>\n",
       "      <th>NO</th>\n",
       "      <th>KODE</th>\n",
       "      <th>NAMA</th>\n",
       "      <th>JENJANG</th>\n",
       "      <th>DAYA TAMPUNG 2021</th>\n",
       "      <th>PEMINAT 2020</th>\n",
       "      <th>JENIS PORTOFOLIO</th>\n",
       "      <th>KODE_PT</th>\n",
       "      <th>KATEGORI</th>\n",
       "      <th>TIPE</th>\n",
       "    </tr>\n",
       "  </thead>\n",
       "  <tbody>\n",
       "    <tr>\n",
       "      <th>0</th>\n",
       "      <td>0</td>\n",
       "      <td>0</td>\n",
       "      <td>1</td>\n",
       "      <td>1111014</td>\n",
       "      <td>PENDIDIKAN DOKTER HEWAN</td>\n",
       "      <td>S1</td>\n",
       "      <td>94</td>\n",
       "      <td>455.0</td>\n",
       "      <td>Tidak Ada</td>\n",
       "      <td>111</td>\n",
       "      <td>saintek</td>\n",
       "      <td>ptn</td>\n",
       "    </tr>\n",
       "    <tr>\n",
       "      <th>1</th>\n",
       "      <td>1</td>\n",
       "      <td>1</td>\n",
       "      <td>2</td>\n",
       "      <td>1111022</td>\n",
       "      <td>TEKNIK SIPIL</td>\n",
       "      <td>S1</td>\n",
       "      <td>77</td>\n",
       "      <td>741.0</td>\n",
       "      <td>Tidak Ada</td>\n",
       "      <td>111</td>\n",
       "      <td>saintek</td>\n",
       "      <td>ptn</td>\n",
       "    </tr>\n",
       "    <tr>\n",
       "      <th>2</th>\n",
       "      <td>2</td>\n",
       "      <td>2</td>\n",
       "      <td>3</td>\n",
       "      <td>1111037</td>\n",
       "      <td>TEKNIK MESIN</td>\n",
       "      <td>S1</td>\n",
       "      <td>66</td>\n",
       "      <td>338.0</td>\n",
       "      <td>Tidak Ada</td>\n",
       "      <td>111</td>\n",
       "      <td>saintek</td>\n",
       "      <td>ptn</td>\n",
       "    </tr>\n",
       "    <tr>\n",
       "      <th>3</th>\n",
       "      <td>3</td>\n",
       "      <td>3</td>\n",
       "      <td>4</td>\n",
       "      <td>1111045</td>\n",
       "      <td>TEKNIK KIMIA</td>\n",
       "      <td>S1</td>\n",
       "      <td>62</td>\n",
       "      <td>201.0</td>\n",
       "      <td>Tidak Ada</td>\n",
       "      <td>111</td>\n",
       "      <td>saintek</td>\n",
       "      <td>ptn</td>\n",
       "    </tr>\n",
       "    <tr>\n",
       "      <th>4</th>\n",
       "      <td>4</td>\n",
       "      <td>4</td>\n",
       "      <td>5</td>\n",
       "      <td>1111053</td>\n",
       "      <td>ARSITEKTUR</td>\n",
       "      <td>S1</td>\n",
       "      <td>61</td>\n",
       "      <td>410.0</td>\n",
       "      <td>Tidak Ada</td>\n",
       "      <td>111</td>\n",
       "      <td>saintek</td>\n",
       "      <td>ptn</td>\n",
       "    </tr>\n",
       "  </tbody>\n",
       "</table>\n",
       "</div>"
      ],
      "text/plain": [
       "   Unnamed: 0  Unnamed: 0.1  NO     KODE                     NAMA JENJANG  \\\n",
       "0           0             0   1  1111014  PENDIDIKAN DOKTER HEWAN      S1   \n",
       "1           1             1   2  1111022             TEKNIK SIPIL      S1   \n",
       "2           2             2   3  1111037             TEKNIK MESIN      S1   \n",
       "3           3             3   4  1111045             TEKNIK KIMIA      S1   \n",
       "4           4             4   5  1111053               ARSITEKTUR      S1   \n",
       "\n",
       "   DAYA TAMPUNG 2021  PEMINAT 2020 JENIS PORTOFOLIO  KODE_PT KATEGORI TIPE  \n",
       "0                 94         455.0        Tidak Ada      111  saintek  ptn  \n",
       "1                 77         741.0        Tidak Ada      111  saintek  ptn  \n",
       "2                 66         338.0        Tidak Ada      111  saintek  ptn  \n",
       "3                 62         201.0        Tidak Ada      111  saintek  ptn  \n",
       "4                 61         410.0        Tidak Ada      111  saintek  ptn  "
      ]
     },
     "execution_count": 3,
     "metadata": {},
     "output_type": "execute_result"
    }
   ],
   "source": [
    "data = \"full_ptn_politeknik.csv\"\n",
    "df = pd.read_csv(data)\n",
    "df.head()"
   ]
  },
  {
   "cell_type": "markdown",
   "id": "e0265e61-2b0b-4d77-bd3f-be7e589cdbd1",
   "metadata": {},
   "source": [
    "Bentuk dari link side panel adalah \"https://sidata-ptn.ltmpt.ac.id/ptn_sb.php?ptn=931&prodi=9311016&jenis=0\" yang mana terdiri dari link utama\"https://sidata-ptn.ltmpt.ac.id/ptn_sb.php\" ditambah dengan kode ptn yaitu \"?ptn=931\" ditambah pula dengan kode prodi yaitu \"prodi=9311016\" dan diakhiri dengan \"&jenis=0\".<br>\n",
    "Berdasarkan analisa link tersebut, untuk mendapatkan seluruh side panel, kode ptn dan kode prodi harus selalu diganti. untuk mendapatkannya cukup menggunakan kolom \"KODE\" dan \"KODE_PT\" yang telah dibuat sebelumnya. "
   ]
  },
  {
   "cell_type": "code",
   "execution_count": 15,
   "id": "5b4a41c3-bed6-41ba-aec5-59881cbdb216",
   "metadata": {},
   "outputs": [
    {
     "data": {
      "text/html": [
       "<div>\n",
       "<style scoped>\n",
       "    .dataframe tbody tr th:only-of-type {\n",
       "        vertical-align: middle;\n",
       "    }\n",
       "\n",
       "    .dataframe tbody tr th {\n",
       "        vertical-align: top;\n",
       "    }\n",
       "\n",
       "    .dataframe thead th {\n",
       "        text-align: right;\n",
       "    }\n",
       "</style>\n",
       "<table border=\"1\" class=\"dataframe\">\n",
       "  <thead>\n",
       "    <tr style=\"text-align: right;\">\n",
       "      <th></th>\n",
       "      <th>Unnamed: 0</th>\n",
       "      <th>Unnamed: 0.1</th>\n",
       "      <th>NO</th>\n",
       "      <th>KODE</th>\n",
       "      <th>NAMA</th>\n",
       "      <th>JENJANG</th>\n",
       "      <th>DAYA TAMPUNG 2021</th>\n",
       "      <th>PEMINAT 2020</th>\n",
       "      <th>JENIS PORTOFOLIO</th>\n",
       "      <th>KODE_PT</th>\n",
       "      <th>KATEGORI</th>\n",
       "      <th>TIPE</th>\n",
       "    </tr>\n",
       "  </thead>\n",
       "  <tbody>\n",
       "  </tbody>\n",
       "</table>\n",
       "</div>"
      ],
      "text/plain": [
       "Empty DataFrame\n",
       "Columns: [Unnamed: 0, Unnamed: 0.1, NO, KODE, NAMA, JENJANG, DAYA TAMPUNG 2021, PEMINAT 2020, JENIS PORTOFOLIO, KODE_PT, KATEGORI, TIPE]\n",
       "Index: []"
      ]
     },
     "execution_count": 15,
     "metadata": {},
     "output_type": "execute_result"
    }
   ],
   "source": [
    "#cek duplicate value kolom kode prodi\n",
    "df[df.duplicated(['KODE'],keep=False)]"
   ]
  },
  {
   "cell_type": "code",
   "execution_count": 4,
   "id": "c934fead-bf0c-4174-a7a8-84a41999dd54",
   "metadata": {},
   "outputs": [],
   "source": [
    "url = 'https://sidata-ptn.ltmpt.ac.id/ptn_sb.php?ptn='\n",
    "url1 = '&prodi='\n",
    "url2 = '&jenis=0'"
   ]
  },
  {
   "cell_type": "code",
   "execution_count": 16,
   "id": "9d719cb1-1880-4cf3-84c2-c8a69ec11015",
   "metadata": {},
   "outputs": [],
   "source": [
    "#membuat link setiap side panel\n",
    "web=[]\n",
    "for i in range(len(df)):\n",
    "    sites = url + str(df['KODE_PT'][i]) + url1 + str(df['KODE'][i]) + url2\n",
    "    web.append(sites)"
   ]
  },
  {
   "cell_type": "code",
   "execution_count": 17,
   "id": "73bdad08-f5c0-4a7e-a7cf-01c3dd5de617",
   "metadata": {},
   "outputs": [
    {
     "data": {
      "text/plain": [
       "['https://sidata-ptn.ltmpt.ac.id/ptn_sb.php?ptn=832&prodi=8321034&jenis=0',\n",
       " 'https://sidata-ptn.ltmpt.ac.id/ptn_sb.php?ptn=832&prodi=8321042&jenis=0',\n",
       " 'https://sidata-ptn.ltmpt.ac.id/ptn_sb.php?ptn=832&prodi=8321057&jenis=0',\n",
       " 'https://sidata-ptn.ltmpt.ac.id/ptn_sb.php?ptn=832&prodi=8322014&jenis=0',\n",
       " 'https://sidata-ptn.ltmpt.ac.id/ptn_sb.php?ptn=931&prodi=9311016&jenis=0']"
      ]
     },
     "execution_count": 17,
     "metadata": {},
     "output_type": "execute_result"
    }
   ],
   "source": [
    "web[-5:]"
   ]
  },
  {
   "cell_type": "code",
   "execution_count": 19,
   "id": "c4d985aa-3a87-407b-85a8-d02f8855fe37",
   "metadata": {},
   "outputs": [
    {
     "data": {
      "text/plain": [
       "3561"
      ]
     },
     "execution_count": 19,
     "metadata": {},
     "output_type": "execute_result"
    }
   ],
   "source": [
    "len(web)"
   ]
  },
  {
   "cell_type": "code",
   "execution_count": 22,
   "id": "490f99fa-6f77-45a5-acd5-2a8f7001c0d7",
   "metadata": {},
   "outputs": [],
   "source": [
    "#membuat folder baru untuk menyimpan file nanti\n",
    "os.makedirs(\"side_panels\")"
   ]
  },
  {
   "cell_type": "code",
   "execution_count": 27,
   "id": "e36fd903-a999-4f09-a23c-f92a459bcf80",
   "metadata": {},
   "outputs": [
    {
     "name": "stderr",
     "output_type": "stream",
     "text": [
      "100%|██████████████████████████████████████████████████████████████████████████████| 3561/3561 [09:57<00:00,  5.96it/s]\n"
     ]
    }
   ],
   "source": [
    "for i in tqdm(range(len(web))):\n",
    "    url = web[i]\n",
    "    # membuat get request\n",
    "    html_content = requests.get(url).text\n",
    "\n",
    "    # Parse HTML code\n",
    "    soup = BeautifulSoup(html_content, \"lxml\")\n",
    "    \n",
    "    # mencari semua tabel yang akan discrap\n",
    "    tabs = soup.find_all(\"table\", attrs={\"class\":\"table table-striped table-condensed\"})\n",
    "    \n",
    "    #scrape hanya tabel pertama seandainya ada lebih dari satu tabel\n",
    "    try:\n",
    "        table = tabs[0]\n",
    "    except:\n",
    "        continue\n",
    "    # menemukan semua table rows\n",
    "    body = table.find_all(\"tr\")\n",
    "    # nilai teratas dari table rows merupakan kolom tabel\n",
    "    head = body[0] # set nama kolom dengan set index body (0)\n",
    "    body_rows = body[1:] # sisa table rows merupakan isi maka set index body (1:) \n",
    "\n",
    "    # iterasi setiap data\n",
    "\n",
    "    # looping nama kolom\n",
    "    headings = []\n",
    "    for item in head.find_all(\"th\"): # nama kolom berada dalam elemen \"th\"\n",
    "        # convert elemen \"th\" berformat text dan strip \"\\n\"\n",
    "        item = (item.text).rstrip(\"\\n\")\n",
    "        headings.append(item)\n",
    "\n",
    "    # looping body_rows data\n",
    "\n",
    "    all_rows = [] #berisi seluruh baris data\n",
    "    for row_num in range(len(body_rows)):\n",
    "        row = [] #berisi data per satu baris\n",
    "        for row_item in body_rows[row_num].find_all(\"td\"): \n",
    "            # row_item.text menghapus tags\n",
    "            # regex menghapus \\xa0, \\n dan koma dari row_item.text\n",
    "            aa = re.sub(\"(\\xa0)|(\\n)|,\",\"\",row_item.text)\n",
    "            row.append(aa)\n",
    "        all_rows.append(row)\n",
    "        \n",
    "    #menggabungkan kolom dengan body\n",
    "    df = pd.DataFrame(data=all_rows,columns=headings)\n",
    "    df['KODE_PT'] = web[i][-25:-22] # set kode pt \"https://sidata-ptn.ltmpt.ac.id/ptn_sb.php?ptn=832&prodi=8321034&jenis=0\"\n",
    "    df['KODE_PRODI'] = web[i][-15:-8] # set kode prodi\n",
    "    #convert DataFrame to .csv\n",
    "    df.to_csv(\"side_panels/side_panel_{}.csv\".format(web[i][-15:-8]), index=None) # tidak menyimpan index dari dataframe tersebut"
   ]
  },
  {
   "cell_type": "code",
   "execution_count": null,
   "id": "d2ed5678-736f-4ca1-905d-6b8e0f8b6c9a",
   "metadata": {},
   "outputs": [],
   "source": []
  }
 ],
 "metadata": {
  "kernelspec": {
   "display_name": "Python 3",
   "language": "python",
   "name": "python3"
  },
  "language_info": {
   "codemirror_mode": {
    "name": "ipython",
    "version": 3
   },
   "file_extension": ".py",
   "mimetype": "text/x-python",
   "name": "python",
   "nbconvert_exporter": "python",
   "pygments_lexer": "ipython3",
   "version": "3.8.8"
  }
 },
 "nbformat": 4,
 "nbformat_minor": 5
}
